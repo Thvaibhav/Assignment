{
 "cells": [
  {
   "cell_type": "markdown",
   "id": "c6a2e656-accf-45ca-bc43-40fc693c3373",
   "metadata": {},
   "source": [
    "Q1.Create one variable containing following type of data:\n",
    "i.string\n",
    "ii.list\n",
    "iii.float\n",
    "iv.tuple"
   ]
  },
  {
   "cell_type": "code",
   "execution_count": 1,
   "id": "52e24911-d929-41dc-aa27-5b450b8f54e8",
   "metadata": {},
   "outputs": [],
   "source": [
    "#String\n",
    "string_variable = \"Hello\"\n",
    "\n",
    "#List\n",
    "list_variable = [1, 2, 3]\n",
    "\n",
    "#Float\n",
    "float_variable = 3.14\n",
    "\n",
    "#Tuple\n",
    "tuple_variable = (4, 5, 6)\n"
   ]
  },
  {
   "cell_type": "markdown",
   "id": "6772166d-dd9a-431e-b5d2-5531bd0b61d1",
   "metadata": {},
   "source": [
    "Q2. Given are some following variables containing data:  <br> i.var1=''\n",
    "<br> ii.var2='[DS,ML,Python]' <br> iii.var3=['DS','ML','Python'] <br> iv.var=1.\n",
    "<br> what will be the data type of the above given varible.\n",
    "<br>Answer:\n",
    "<br>(i) var1 is an empty string, so its data type is str.\n",
    "<br>(ii) var2 is a string containing a list as a string, so its data type is str.\n",
    "<br>(iii) var3 is a list, so its data type is list.\n",
    "<br>(iv) var4 is a float because of the decimal point, so its data type is float.\n",
    "\n"
   ]
  },
  {
   "cell_type": "markdown",
   "id": "f0dce1fa-4ee7-4d93-b5b1-3dc9430f45b0",
   "metadata": {},
   "source": [
    " Q3. Explain the use of the following operators using an example:\n",
    "  <br> i. /\n",
    "  <br>Answer : / is a division operator.  \n",
    "  <br>ii. %\n",
    "  <br>Answer : % is a modulo operator.use to find mod.\n",
    "  <br>iii. //\n",
    "  <br>Answer : // is a floor division operator. \n",
    "  <br> iv. **\n",
    "  <br>Answer : ** is a exponentiation operator.\n",
    "  \n",
    "  \n",
    "    "
   ]
  },
  {
   "cell_type": "code",
   "execution_count": 2,
   "id": "342ee11d-ceb9-40a9-a8fd-901ae7cacbf5",
   "metadata": {},
   "outputs": [
    {
     "data": {
      "text/plain": [
       "3.3333333333333335"
      ]
     },
     "execution_count": 2,
     "metadata": {},
     "output_type": "execute_result"
    }
   ],
   "source": [
    "# Example of  the above\n",
    "#i./\n",
    "10/3"
   ]
  },
  {
   "cell_type": "code",
   "execution_count": 3,
   "id": "c6449152-b959-4e1c-ba9d-3b2732e7bf51",
   "metadata": {},
   "outputs": [
    {
     "data": {
      "text/plain": [
       "0"
      ]
     },
     "execution_count": 3,
     "metadata": {},
     "output_type": "execute_result"
    }
   ],
   "source": [
    "#ii.%\n",
    "8%2"
   ]
  },
  {
   "cell_type": "code",
   "execution_count": 4,
   "id": "825f0b1d-2ab2-4d37-bfc8-b6d22457d33e",
   "metadata": {},
   "outputs": [
    {
     "data": {
      "text/plain": [
       "2"
      ]
     },
     "execution_count": 4,
     "metadata": {},
     "output_type": "execute_result"
    }
   ],
   "source": [
    "#iii.//\n",
    "8//3"
   ]
  },
  {
   "cell_type": "code",
   "execution_count": 5,
   "id": "de81cf89-b502-458b-a9d9-4c2bc1f8386c",
   "metadata": {},
   "outputs": [
    {
     "data": {
      "text/plain": [
       "8"
      ]
     },
     "execution_count": 5,
     "metadata": {},
     "output_type": "execute_result"
    }
   ],
   "source": [
    "#iv. **\n",
    "2**3"
   ]
  },
  {
   "cell_type": "code",
   "execution_count": 6,
   "id": "a99e6903-2335-4641-b680-ee2e95c09cda",
   "metadata": {},
   "outputs": [
    {
     "name": "stdout",
     "output_type": "stream",
     "text": [
      "Element: 1, Data Type: <class 'int'>\n",
      "Element: hello, Data Type: <class 'str'>\n",
      "Element: 3.14, Data Type: <class 'float'>\n",
      "Element: True, Data Type: <class 'bool'>\n",
      "Element: [1, 2, 3], Data Type: <class 'list'>\n",
      "Element: world, Data Type: <class 'str'>\n",
      "Element: False, Data Type: <class 'bool'>\n",
      "Element: 42, Data Type: <class 'int'>\n",
      "Element: (4, 5), Data Type: <class 'tuple'>\n",
      "Element: None, Data Type: <class 'NoneType'>\n"
     ]
    }
   ],
   "source": [
    "#Q4. Create a list of length 10 of your choice containing multiple types of data. Using for loop print the \n",
    "#element and its data type.\n",
    "#answer :\n",
    "list = [1, 'hello', 3.14, True, [1, 2, 3], 'world', False, 42, (4, 5), None]\n",
    "\n",
    "for element in list:\n",
    "    print(f\"Element: {element}, Data Type: {type(element)}\")\n",
    "\n",
    "\n",
    "\n",
    "\n",
    "\n"
   ]
  },
  {
   "cell_type": "code",
   "execution_count": 7,
   "id": "71923c32-3580-4264-8830-15958d04e7d5",
   "metadata": {},
   "outputs": [
    {
     "name": "stdout",
     "output_type": "stream",
     "text": [
      "A is divisible by B 1 times.\n"
     ]
    }
   ],
   "source": [
    "#Q5. Using a while loop, verify if the number A is purely divisible by number B and if so then how many \n",
    "#times it can be divisible.\n",
    "#Answer :\n",
    "\n",
    "A = 30\n",
    "B = 3\n",
    "count = 0\n",
    "\n",
    "while A % B == 0:\n",
    "    A /= B\n",
    "    count += 1\n",
    "\n",
    "print(f\"A is divisible by B {count} times.\")\n",
    "\n",
    "\n",
    "\n",
    "\n"
   ]
  },
  {
   "cell_type": "code",
   "execution_count": 8,
   "id": "1a336e14-e430-49c8-b151-a4fd41e66e45",
   "metadata": {},
   "outputs": [
    {
     "name": "stdout",
     "output_type": "stream",
     "text": [
      "1 is not divisible by 3.\n",
      "2 is not divisible by 3.\n",
      "3 is divisible by 3.\n",
      "4 is not divisible by 3.\n",
      "5 is not divisible by 3.\n",
      "6 is divisible by 3.\n",
      "7 is not divisible by 3.\n",
      "8 is not divisible by 3.\n",
      "9 is divisible by 3.\n",
      "10 is not divisible by 3.\n",
      "11 is not divisible by 3.\n",
      "12 is divisible by 3.\n",
      "13 is not divisible by 3.\n",
      "14 is not divisible by 3.\n",
      "15 is divisible by 3.\n",
      "16 is not divisible by 3.\n",
      "17 is not divisible by 3.\n",
      "18 is divisible by 3.\n",
      "19 is not divisible by 3.\n",
      "20 is not divisible by 3.\n",
      "21 is divisible by 3.\n",
      "22 is not divisible by 3.\n",
      "23 is not divisible by 3.\n",
      "24 is divisible by 3.\n",
      "25 is not divisible by 3.\n"
     ]
    }
   ],
   "source": [
    "#Q6. Create a list containing 25 int type data. Using for loop and if-else condition print if the element is \n",
    "#divisible by 3 or not.\n",
    "#Answer :\n",
    "\n",
    "int_list = [i for i in range(1, 26)]\n",
    "\n",
    "\n",
    "for num in int_list:\n",
    "    if num % 3 == 0:\n",
    "        print(f\"{num} is divisible by 3.\")\n",
    "    else:\n",
    "        print(f\"{num} is not divisible by 3.\")\n"
   ]
  },
  {
   "cell_type": "code",
   "execution_count": 9,
   "id": "ca38a576-078b-403b-8dc5-62ec79c35564",
   "metadata": {},
   "outputs": [
    {
     "name": "stdout",
     "output_type": "stream",
     "text": [
      "[100, 2, 3]\n"
     ]
    }
   ],
   "source": [
    "#Q7. What do you understand about mutable and immutable data types? Give examples for both showing \n",
    "#this property.\n",
    "#Answer :\n",
    "#Mutable and immutable are terms used to describe whether an object's state or value can be changed after it is created.\n",
    "#Mutable Data Types:\n",
    "#Objects of mutable data types can be modified after creation.\n",
    "#Examples include lists, dictionaries, and sets.\n",
    "#Changes made to the object directly affect the original object.\n",
    "mutable_list = [1, 2, 3]\n",
    "mutable_list[0] = 100\n",
    "print(mutable_list)  # Output: [100, 2, 3]\n",
    "\n",
    "\n"
   ]
  },
  {
   "cell_type": "code",
   "execution_count": 10,
   "id": "79889975-8067-4dfe-9526-bdf154c738fa",
   "metadata": {},
   "outputs": [
    {
     "ename": "TypeError",
     "evalue": "'tuple' object does not support item assignment",
     "output_type": "error",
     "traceback": [
      "\u001b[0;31m---------------------------------------------------------------------------\u001b[0m",
      "\u001b[0;31mTypeError\u001b[0m                                 Traceback (most recent call last)",
      "Cell \u001b[0;32mIn[10], line 7\u001b[0m\n\u001b[1;32m      5\u001b[0m immutable_tuple \u001b[38;5;241m=\u001b[39m (\u001b[38;5;241m1\u001b[39m, \u001b[38;5;241m2\u001b[39m, \u001b[38;5;241m3\u001b[39m)\n\u001b[1;32m      6\u001b[0m \u001b[38;5;66;03m# The following line would raise an error since tuples are immutable:\u001b[39;00m\n\u001b[0;32m----> 7\u001b[0m \u001b[43mimmutable_tuple\u001b[49m\u001b[43m[\u001b[49m\u001b[38;5;241;43m0\u001b[39;49m\u001b[43m]\u001b[49m \u001b[38;5;241m=\u001b[39m \u001b[38;5;241m100\u001b[39m\n",
      "\u001b[0;31mTypeError\u001b[0m: 'tuple' object does not support item assignment"
     ]
    }
   ],
   "source": [
    "#Immutable Data Types:\n",
    "#Objects of immutable data types cannot be modified after creation.\n",
    "#Examples include strings, tuples, and integers.\n",
    "#Any operation that appears to modify the object actually creates a new object.\n",
    "immutable_tuple = (1, 2, 3)\n",
    "# The following line would raise an error since tuples are immutable:\n",
    "immutable_tuple[0] = 100\n",
    "\n"
   ]
  }
 ],
 "metadata": {
  "kernelspec": {
   "display_name": "Python 3 (ipykernel)",
   "language": "python",
   "name": "python3"
  },
  "language_info": {
   "codemirror_mode": {
    "name": "ipython",
    "version": 3
   },
   "file_extension": ".py",
   "mimetype": "text/x-python",
   "name": "python",
   "nbconvert_exporter": "python",
   "pygments_lexer": "ipython3",
   "version": "3.10.8"
  }
 },
 "nbformat": 4,
 "nbformat_minor": 5
}
